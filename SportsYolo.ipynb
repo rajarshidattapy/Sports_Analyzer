{
  "nbformat": 4,
  "nbformat_minor": 0,
  "metadata": {
    "colab": {
      "provenance": []
    },
    "kernelspec": {
      "name": "python3",
      "display_name": "Python 3"
    },
    "language_info": {
      "name": "python"
    }
  },
  "cells": [
    {
      "cell_type": "markdown",
      "source": [
        "Smart Sports Analyzer (Google Colab Version)\n",
        "⚽ An intelligent sports match analyzer that uses YOLOv8 for real-time player and ball detection on football (soccer) match videos.\n",
        "🧠 Built for sports analytics, event tracking, and visual insights — right inside your browser using Google Colab.\n",
        "\n",
        "🔍 What This Project Does\n",
        "Detects players (class: person) in every frame of the match video\n",
        "\n",
        "Annotates the video with bounding boxes and confidence scores\n",
        "\n",
        "Outputs an analyzed video ready for download\n",
        "\n",
        "Optionally extendable with DeepSORT for player tracking, pose detection, heatmaps, and ball possession\n",
        "\n",
        "🛠️ Tools & Tech\n",
        "Technology\tPurpose\n",
        "YOLOv8 (Ultralytics)\tObject detection (players/ball)\n",
        "OpenCV\tVideo frame handling & annotations\n",
        "Google Colab\tCloud execution & easy sharing\n",
        "\n",
        "-> Google gemini will give real time output"
      ],
      "metadata": {
        "id": "Rw09KzjRN8dT"
      }
    },
    {
      "cell_type": "code",
      "execution_count": 4,
      "metadata": {
        "id": "_g3t22pYtYv6"
      },
      "outputs": [],
      "source": [
        "# 📘 Smart Sports Analyzer - Google Colab\n",
        "# Real-time football match commentary using YOLOv8 + Gemini LLM\n",
        "\n",
        "# 🧰 Step 1: Install Required Packages\n",
        "!pip install ultralytics opencv-python google-generativeai --quiet"
      ]
    },
    {
      "cell_type": "code",
      "source": [
        "# 🎥 Step 2: Download a Football Match from YouTube\n",
        "\n",
        "# 👉 Paste your video URL below\n",
        "video_url = \"https://www.youtube.com/watch?v=VIDEO_ID\"  # ← Replace with your link\n",
        "\n",
        "# Download the video using yt-dlp\n",
        "!yt-dlp -f 'bestvideo[ext=mp4]+bestaudio[ext=m4a]/mp4' \"{video_url}\" -o \"match.mp4\"\n",
        "\n",
        "video_path = \"match.mp4\"\n",
        "print(f\"✅ Video downloaded and saved as: {video_path}\")\n"
      ],
      "metadata": {
        "colab": {
          "base_uri": "https://localhost:8080/"
        },
        "id": "4a33Fz3EQ46j",
        "outputId": "ad224f85-462b-4c07-c3f9-fc5191cb23d1"
      },
      "execution_count": 5,
      "outputs": [
        {
          "output_type": "stream",
          "name": "stdout",
          "text": [
            "[youtube:truncated_id] Extracting URL: https://www.youtube.com/watch?v=VIDEO_ID\n",
            "\u001b[0;31mERROR:\u001b[0m [youtube:truncated_id] VIDEO_ID: Incomplete YouTube ID VIDEO_ID. URL https://www.youtube.com/watch?v=VIDEO_ID looks truncated.\n",
            "✅ Video downloaded and saved as: match.mp4\n"
          ]
        }
      ]
    },
    {
      "cell_type": "code",
      "source": [
        "# 🧠 Step 3: Load YOLOv8 and Detect Players Frame-by-Frame\n",
        "from ultralytics import YOLO\n",
        "import cv2\n",
        "\n",
        "model = YOLO('yolov8n.pt')  # You can change to yolov8s.pt for more accuracy\n",
        "\n",
        "def extract_context(video_path):\n",
        "    cap = cv2.VideoCapture(video_path)\n",
        "    frame_count = 0\n",
        "    context_list = []\n",
        "\n",
        "    while True:\n",
        "        ret, frame = cap.read()\n",
        "        if not ret:\n",
        "            break\n",
        "\n",
        "        frame_count += 1\n",
        "        if frame_count % 10 != 0:  # Skip frames to reduce load\n",
        "            continue\n",
        "\n",
        "        results = model(frame)\n",
        "        frame_context = []\n",
        "\n",
        "        for r in results:\n",
        "            for box in r.boxes:\n",
        "                cls = int(box.cls[0])\n",
        "                if cls == 0:  # Only detect persons\n",
        "                    x1, y1, x2, y2 = map(int, box.xyxy[0])\n",
        "                    frame_context.append({\"bbox\": [x1, y1, x2, y2]})\n",
        "\n",
        "        context_list.append(frame_context)\n",
        "\n",
        "    cap.release()\n",
        "    return context_list\n",
        "\n",
        "contexts = extract_context(video_path)\n",
        "print(f\"✅ Extracted {len(contexts)} context frames.\")\n"
      ],
      "metadata": {
        "colab": {
          "base_uri": "https://localhost:8080/"
        },
        "id": "UWrVoOAxNGcO",
        "outputId": "05fe8e20-9e2c-4b36-f7af-a0db7f184f3e"
      },
      "execution_count": 2,
      "outputs": [
        {
          "output_type": "stream",
          "name": "stdout",
          "text": [
            "Collecting yt-dlp\n",
            "  Downloading yt_dlp-2025.6.9-py3-none-any.whl.metadata (174 kB)\n",
            "\u001b[?25l     \u001b[90m━━━━━━━━━━━━━━━━━━━━━━━━━━━━━━━━━━━━━━━━\u001b[0m \u001b[32m0.0/174.3 kB\u001b[0m \u001b[31m?\u001b[0m eta \u001b[36m-:--:--\u001b[0m\r\u001b[2K     \u001b[91m━━━━━━━━━━━━━━━━━━━━━━━━━━━━━━━━━━━━━━\u001b[0m\u001b[91m╸\u001b[0m \u001b[32m174.1/174.3 kB\u001b[0m \u001b[31m6.1 MB/s\u001b[0m eta \u001b[36m0:00:01\u001b[0m\r\u001b[2K     \u001b[90m━━━━━━━━━━━━━━━━━━━━━━━━━━━━━━━━━━━━━━━\u001b[0m \u001b[32m174.3/174.3 kB\u001b[0m \u001b[31m3.5 MB/s\u001b[0m eta \u001b[36m0:00:00\u001b[0m\n",
            "\u001b[?25hDownloading yt_dlp-2025.6.9-py3-none-any.whl (3.3 MB)\n",
            "\u001b[2K   \u001b[90m━━━━━━━━━━━━━━━━━━━━━━━━━━━━━━━━━━━━━━━━\u001b[0m \u001b[32m3.3/3.3 MB\u001b[0m \u001b[31m44.4 MB/s\u001b[0m eta \u001b[36m0:00:00\u001b[0m\n",
            "\u001b[?25hInstalling collected packages: yt-dlp\n",
            "Successfully installed yt-dlp-2025.6.9\n",
            "[youtube] Extracting URL: https://www.youtube.com/watch?v=kbrDf3tLrZ8\n",
            "[youtube] kbrDf3tLrZ8: Downloading webpage\n",
            "[youtube] kbrDf3tLrZ8: Downloading tv client config\n",
            "[youtube] kbrDf3tLrZ8: Downloading player fc2a56a5-main\n",
            "[youtube] kbrDf3tLrZ8: Downloading tv player API JSON\n",
            "[youtube] kbrDf3tLrZ8: Downloading ios player API JSON\n",
            "\u001b[0;31mERROR:\u001b[0m [youtube] kbrDf3tLrZ8: Video unavailable\n"
          ]
        }
      ]
    },
    {
      "cell_type": "code",
      "source": [
        "# 🤖 Step 4: Connect to Gemini for Commentary\n",
        "import google.generativeai as genai\n",
        "\n",
        "genai.configure(api_key=\"YOUR_GEMINI_API_KEY\")  # ← Replace this with your key\n",
        "model = genai.GenerativeModel(\"gemini-1.5-pro\")\n",
        "\n",
        "def get_commentary(frame_context, last_line=\"\"):\n",
        "    prompt = f'''\n",
        "You are a football match commentator.\n",
        "Based on the following detected player bounding boxes, generate a 1-line live commentary.\n",
        "\n",
        "Player bounding boxes: {frame_context}\n",
        "Previous line: \"{last_line}\"\n",
        "\n",
        "Example output:\n",
        "\"Player 7 dribbles forward on the left wing.\"\n",
        "\"Ball is passed near the penalty box.\"\n",
        "'''\n",
        "    try:\n",
        "        response = model.generate_content(prompt)\n",
        "        return response.text.strip()\n",
        "    except Exception:\n",
        "        return \"Commentary loading...\"\n"
      ],
      "metadata": {
        "id": "GAZ_AkgjNI8c"
      },
      "execution_count": null,
      "outputs": []
    },
    {
      "cell_type": "code",
      "source": [
        "# 🗣️ Step 5: Run Real-time Commentary\n",
        "import time\n",
        "\n",
        "print(\"🎥 Generating match commentary...\\n\")\n",
        "last_line = \"\"\n",
        "\n",
        "for i, context in enumerate(contexts[:25]):  # Adjust range for longer matches\n",
        "    line = get_commentary(context, last_line)\n",
        "    print(f\"📣 {line}\")\n",
        "    last_line = line\n",
        "    time.sleep(1)  # Simulated real-time\n"
      ],
      "metadata": {
        "id": "oMbxJ9ZyRDEF"
      },
      "execution_count": null,
      "outputs": []
    }
  ]
}